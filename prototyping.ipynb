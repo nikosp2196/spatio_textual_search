{
 "cells": [
  {
   "cell_type": "code",
   "execution_count": 1,
   "metadata": {},
   "outputs": [],
   "source": [
    "from loader import load_reviews_to_list\n",
    "from text_search import *\n",
    "from spatial_search import *\n",
    "from spatio_textual_search import *"
   ]
  },
  {
   "cell_type": "code",
   "execution_count": 2,
   "metadata": {},
   "outputs": [],
   "source": [
    "path = 'Data\\\\Restaurants_London_England.tsv'\n",
    "restaurants_list, borders = load_reviews_to_list(path)\n",
    "\n",
    "tags_list, bags_of_restaurants = generate_inverted_index(restaurants_list)\n",
    "\n",
    "x_list, y_list = create_grid(borders,50)\n",
    "grid = add_restaurants_to_grid(x_list, y_list, restaurants_list)"
   ]
  },
  {
   "cell_type": "code",
   "execution_count": 3,
   "metadata": {},
   "outputs": [],
   "source": []
  },
  {
   "cell_type": "code",
   "execution_count": 5,
   "metadata": {
    "tags": []
   },
   "outputs": [],
   "source": [
    "r_query = [51, 51.50, -0.5, 0]\n",
    "t_query = ['british', 'bar']\n",
    "#kwspaif =  kwSpaSearchGrid(r_query, t_query, tags_list, bags_of_restaurants, x_list, y_list, grid, restaurants_list)\n",
    "kwspaif = kwSpaSearchRaw(r_query, t_query, restaurants_list)"
   ]
  },
  {
   "cell_type": "code",
   "execution_count": 6,
   "metadata": {
    "tags": []
   },
   "outputs": [
    {
     "output_type": "stream",
     "name": "stdout",
     "text": "5\nRestaurant_Review-g186338-d944622-Reviews-Yacht-London_England.html\nlocation: 51.484703 , -0.00394\ntags: ['english', 'british', 'bar', 'grill'] \n\nRestaurant_Review-g186338-d734073-Reviews-Castle-London_England.html\nlocation: 51.47279 , -0.173312\ntags: ['british', 'bar', 'grill'] \n\nRestaurant_Review-g186338-d1017689-Reviews-Society_Bar_Restaurant-London_England.html\nlocation: 51.496468 , -0.206702\ntags: ['contemporary', 'international', 'british', 'bar', 'reservations', 'private dining'] \n\nRestaurant_Review-g186338-d806450-Reviews-THE_TERRACE_KITCHEN_BAR-London_England.html\nlocation: 51.412285 , -0.12382\ntags: ['caribbean', 'vegetarian', 'british', 'bar', 'families with children', 'romance', 'outdoor seating', 'breakfast/brunch'] \n\nRestaurant_Review-g186338-d817313-Reviews-Barstory-London_England.html\nlocation: 51.46933 , -0.070317\ntags: ['british', 'bar', 'bistro', 'romance', 'outdoor seating'] \n\n"
    }
   ],
   "source": [
    "print(len(kwspaif))\n",
    "for r in kwspaif:\n",
    "    print(restaurants_list[r]['review_id'])\n",
    "    print('location:', restaurants_list[r]['x'], ',', restaurants_list[r]['y'])\n",
    "    print('tags:', restaurants_list[r]['tags'], '\\n')"
   ]
  },
  {
   "cell_type": "code",
   "execution_count": 9,
   "metadata": {},
   "outputs": [
    {
     "output_type": "execute_result",
     "data": {
      "text/plain": "{'min_x': 50.546856, 'max_x': 55.95297, 'min_y': -4.243601, 'max_y': 1.387973}"
     },
     "metadata": {},
     "execution_count": 9
    }
   ],
   "source": [
    "borders"
   ]
  },
  {
   "cell_type": "code",
   "execution_count": 12,
   "metadata": {
    "tags": []
   },
   "outputs": [
    {
     "output_type": "stream",
     "name": "stdout",
     "text": "american 315\nasian 205\nbakery 105\nbar 344\nbar scene 395\nbreakfast/brunch 1380\nbritish 1346\ncafÃ© 165\nchinese 499\ncoffee shop 355\ncontemporary 164\ndelivery 466\ndessert 261\ndining on a budget 146\ndinner 972\ndoing business 353\nenglish 714\nentertaining clients 337\neuropean 602\nfamilies with children 380\nfrench 499\ngrill 276\nindian 936\ninternational 298\nitalian 1386\njapanese 339\nlarge groups 333\nlate night 2062\nlebanese 149\nlocal cuisine 160\nlunch 826\nmediterranean 327\nmexican 127\noutdoor seating 256\npizza 150\npub 147\nreservations 3012\nromance 404\nseafood 112\nspanish 166\nspecial occasions 353\ntakeout 338\nthai 368\nturkish 240\nvegetarian 185\n"
    }
   ],
   "source": [
    "for i,t in enumerate(tags_list):\n",
    "    if len(bags_of_restaurants[i]) > 100:\n",
    "        print(t, len(bags_of_restaurants[i]))"
   ]
  }
 ],
 "metadata": {
  "language_info": {
   "codemirror_mode": {
    "name": "ipython",
    "version": 3
   },
   "file_extension": ".py",
   "mimetype": "text/x-python",
   "name": "python",
   "nbconvert_exporter": "python",
   "pygments_lexer": "ipython3",
   "version": "3.8.2-final"
  },
  "orig_nbformat": 2,
  "kernelspec": {
   "name": "python38264bit087c00796cd34d3ab2062ec5dd503d96",
   "display_name": "Python 3.8.2 64-bit"
  }
 },
 "nbformat": 4,
 "nbformat_minor": 2
}