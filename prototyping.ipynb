{
 "cells": [
  {
   "cell_type": "code",
   "execution_count": 1,
   "metadata": {},
   "outputs": [],
   "source": [
    "from loader import load_reviews_to_list\n",
    "from text_search import *\n",
    "from spatial_search import *"
   ]
  },
  {
   "cell_type": "code",
   "execution_count": 2,
   "metadata": {},
   "outputs": [],
   "source": [
    "path = 'Data\\\\Restaurants_London_England.tsv'\n",
    "restaurants_list, borders = load_reviews_to_list(path)\n",
    "\n",
    "tags_list, bags_of_restaurants = generate_inverted_index(restaurants_list)\n",
    "\n",
    "x_list, y_list = create_grid(borders,50)\n",
    "grid = add_restaurants_to_grid(x_list, y_list, restaurants_list)"
   ]
  },
  {
   "cell_type": "code",
   "execution_count": 25,
   "metadata": {},
   "outputs": [],
   "source": [
    "def kwSpaSearchIF(r_query, t_query, tags_list, bags_of_restaurants, x_list, y_list, grid, restaurants_list):\n",
    "    tags_results = kwSearchIF(t_query, tags_list, bags_of_restaurants)\n",
    "    final_results = spaSearchGridAfterIF(r_query, tags_results, x_list, y_list, grid, restaurants_list)\n",
    "    return final_results\n",
    "\n",
    "def kwSpaSearchGrid(r_query, t_query, tags_list, bags_of_restaurants, x_list, y_list, grid, restaurants_list):\n",
    "    grid_results = spaSearchGrid(r_query,x_list,y_list,grid,restaurants_list)\n",
    "    final_results = kwSearchIFAfterGrid(t_query, tags_list, bags_of_restaurants, grid_results)\n",
    "    return final_results\n",
    "\n",
    "def kwSearchIFAfterGrid(text_list, tags_list, bags_list, grid_results):\n",
    "    s_text_list = sorted(text_list)\n",
    "\n",
    "    if_indexes = merge_join(s_text_list, tags_list)\n",
    "    print(if_indexes)\n",
    "    if if_indexes == -1:\n",
    "        return []\n",
    "\n",
    "    r_intersection = set([r for r in bags_list[if_indexes[0]] if r in grid_results])\n",
    "    if len(if_indexes) > 1:\n",
    "        for i in range(1, len(if_indexes)):\n",
    "            r_intersection = r_intersection.intersection([r for r in bags_list[if_indexes[i]] if r in grid_results])\n",
    "\n",
    "    return list(r_intersection)\n",
    "\n",
    "\n",
    "\n",
    "def spaSearchGridAfterIF(r_query, tags_results, x_list, y_list, grid, restaurants_list):\n",
    "\n",
    "    x_min_index = binary_search(x_list, r_query[0])\n",
    "    x_max_index = binary_search(x_list, r_query[1])\n",
    "\n",
    "    y_min_index = binary_search(y_list, r_query[2])\n",
    "    y_max_index = binary_search(y_list, r_query[3])\n",
    "        \n",
    "    results = []\n",
    "    for i in range(y_min_index,y_max_index + 1):\n",
    "        for j in range(x_min_index,x_max_index + 1):\n",
    "            if len(grid[i][j]) > 0:\n",
    "                for r in grid[i][j]:\n",
    "                    if r in tags_results and \\\n",
    "                        restaurants_list[r]['x'] >= r_query[0] and \\\n",
    "                        restaurants_list[r]['x'] <= r_query[1] and \\\n",
    "                        restaurants_list[r]['y'] >= r_query[2] and \\\n",
    "                        restaurants_list[r]['y'] <= r_query[3]:\n",
    "                        results.append(r)\n",
    "\n",
    "    return results"
   ]
  },
  {
   "cell_type": "code",
   "execution_count": 23,
   "metadata": {},
   "outputs": [],
   "source": [
    "r_query = [51, 51.50, -0.5, 0]\n",
    "t_query = ['british', 'bar']\n",
    "kwspaif =  kwSpaSearchGrid(r_query, t_query, tags_list, bags_of_restaurants, x_list, y_list, grid, restaurants_list)"
   ]
  },
  {
   "cell_type": "code",
   "execution_count": 24,
   "metadata": {
    "tags": []
   },
   "outputs": [
    {
     "output_type": "stream",
     "name": "stdout",
     "text": "0\n"
    }
   ],
   "source": [
    "print(len(kwspaif))\n",
    "for r in kwspaif:\n",
    "    print(restaurants_list[r]['review_id'])\n",
    "    print('location:', restaurants_list[r]['x'], ',', restaurants_list[r]['y'])\n",
    "    print('tags:', restaurants_list[r]['tags'], '\\n')"
   ]
  },
  {
   "cell_type": "code",
   "execution_count": null,
   "metadata": {},
   "outputs": [],
   "source": []
  }
 ],
 "metadata": {
  "language_info": {
   "codemirror_mode": {
    "name": "ipython",
    "version": 3
   },
   "file_extension": ".py",
   "mimetype": "text/x-python",
   "name": "python",
   "nbconvert_exporter": "python",
   "pygments_lexer": "ipython3",
   "version": "3.8.2-final"
  },
  "orig_nbformat": 2,
  "kernelspec": {
   "name": "python38264bit087c00796cd34d3ab2062ec5dd503d96",
   "display_name": "Python 3.8.2 64-bit"
  }
 },
 "nbformat": 4,
 "nbformat_minor": 2
}