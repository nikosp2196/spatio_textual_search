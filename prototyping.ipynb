{
 "cells": [
  {
   "cell_type": "code",
   "execution_count": 1,
   "metadata": {},
   "outputs": [],
   "source": [
    "from loader import load_reviews_to_list\n",
    "from text_search import *\n",
    "from spatial_search import *"
   ]
  },
  {
   "cell_type": "code",
   "execution_count": 2,
   "metadata": {},
   "outputs": [],
   "source": [
    "path = 'Data\\\\Restaurants_London_England.tsv'\n",
    "reviews, borders = load_reviews_to_list(path)"
   ]
  },
  {
   "cell_type": "code",
   "execution_count": 3,
   "metadata": {},
   "outputs": [],
   "source": [
    "x_list, y_list = create_grid(borders,50)"
   ]
  },
  {
   "cell_type": "code",
   "execution_count": 4,
   "metadata": {
    "tags": []
   },
   "outputs": [],
   "source": [
    "grid = add_restaurants_to_grid(x_list, y_list, reviews)"
   ]
  },
  {
   "cell_type": "code",
   "execution_count": 5,
   "metadata": {
    "tags": []
   },
   "outputs": [
    {
     "output_type": "stream",
     "name": "stdout",
     "text": "bounds: 50.546856 55.95297 -4.243601 1.387973\nwidths: 5.406114000000002 5.631574\n0 2 1\n4 29 1\n5 36 5\n6 32 1\n6 34 1\n6 39 1\n6 49 1\n7 33 3\n7 34 4\n7 35 49\n7 36 32\n7 37 18\n7 38 4\n8 15 1\n8 32 1\n8 33 24\n8 34 149\n8 35 1203\n8 36 4894\n8 37 759\n8 38 71\n8 39 1\n8 40 1\n9 33 6\n9 34 54\n9 35 461\n9 36 1999\n9 37 866\n9 38 78\n9 39 2\n9 40 2\n9 43 3\n10 18 1\n10 34 2\n10 35 5\n10 36 87\n10 37 36\n10 38 4\n10 39 1\n12 34 1\n12 42 1\n13 20 1\n13 49 1\n17 20 1\n19 27 1\n23 25 1\n26 17 1\n27 17 1\n29 13 1\n29 24 1\n49 0 1\n49 9 1\n"
    }
   ],
   "source": [
    "print_grid_info(borders, grid)"
   ]
  },
  {
   "cell_type": "code",
   "execution_count": 66,
   "metadata": {
    "tags": []
   },
   "outputs": [],
   "source": [
    "def spaSearchGrid(r_query, x_list, y_list, grid):\n",
    "\n",
    "    x_min_index = binary_search(x_list, r_query[0])\n",
    "    x_max_index = binary_search(x_list, r_query[1])\n",
    "    print(\"X:\", x_min_index, x_max_index)\n",
    "    print(\"X_LIST:\", x_list[x_min_index], x_list[x_max_index])\n",
    "\n",
    "    y_min_index = binary_search(y_list, r_query[2])\n",
    "    y_max_index = binary_search(y_list, r_query[3])\n",
    "    print(\"Y:\", y_min_index, y_max_index)\n",
    "    print(\"Y_LIST:\", y_list[y_min_index], y_list[y_max_index])\n",
    "    \n",
    "    count = 0\n",
    "    for i in range(y_min_index,y_max_index + 1):\n",
    "        for j in range(x_min_index,x_max_index + 1):\n",
    "            if len(grid[i][j]) > 0:\n",
    "                for r in grid[i][j]:\n",
    "                    if reviews[r]['x'] >= q[0] and reviews[r]['x'] <= q[1] and reviews[r]['y'] >= q[2] and reviews[r]['y'] <= q[3]:\n",
    "                        print(reviews[r]['review_id'])\n",
    "                        print('location:', reviews[r]['x'], ',', reviews[r]['y'])\n",
    "                        print('tags:', reviews[r]['tags'], '\\n')\n",
    "\n",
    "                        count += 1\n",
    "    print(count)\n",
    "    return    "
   ]
  },
  {
   "cell_type": "code",
   "execution_count": 67,
   "metadata": {
    "tags": []
   },
   "outputs": [
    {
     "output_type": "stream",
     "name": "stdout",
     "text": "X: 4 6\nX_LIST: [50.97934512, 51.0874674] [51.19558968, 51.30371196]\nY: 0 49\nY_LIST: [-4.243601, -4.13096952] [1.2753415199999996, 1.387973]\nRestaurant_Review-g186338-d3979097-Reviews-BB_Bakery-London_England.html\nlocation: 51.008526 , -0.936142\ntags: ['french'] \n\nRestaurant_Review-g186338-d3318593-Reviews-Jamie_Oliver_s_Restaurant-London_England.html\nlocation: 51.159298 , -0.172481\ntags: ['international'] \n\nRestaurant_Review-g186338-d3381895-Reviews-Joes_Kitchen_Coffee_House-London_England.html\nlocation: 51.161 , -0.172959\ntags: ['central european'] \n\nRestaurant_Review-g186338-d2343541-Reviews-Garfunkel_s_at_Gatwick_Aiport-London_England.html\nlocation: 51.160873 , -0.179375\ntags: ['european', 'breakfast/brunch', 'late night'] \n\nRestaurant_Review-g186338-d4046898-Reviews-Jamie_s_italian-London_England.html\nlocation: 51.16089 , -0.176477\ntags: ['italian'] \n\nRestaurant_Review-g186338-d2375022-Reviews-Garfunkel_s-London_England.html\nlocation: 51.160877 , -0.17403\ntags: ['english'] \n\n6\n"
    }
   ],
   "source": [
    "q = [51,51.20,-4.243601,1.387973]\n",
    "results = spaSearchGrid(q, x_list, y_list, grid)"
   ]
  },
  {
   "cell_type": "code",
   "execution_count": 68,
   "metadata": {
    "tags": []
   },
   "outputs": [
    {
     "output_type": "stream",
     "name": "stdout",
     "text": "6 [{'review_id': 'Restaurant_Review-g186338-d3318593-Reviews-Jamie_Oliver_s_Restaurant-London_England.html', 'x': 51.159298, 'y': -0.172481, 'tags': ['international']}, {'review_id': 'Restaurant_Review-g186338-d3381895-Reviews-Joes_Kitchen_Coffee_House-London_England.html', 'x': 51.161, 'y': -0.172959, 'tags': ['central european']}, {'review_id': 'Restaurant_Review-g186338-d2343541-Reviews-Garfunkel_s_at_Gatwick_Aiport-London_England.html', 'x': 51.160873, 'y': -0.179375, 'tags': ['european', 'breakfast/brunch', 'late night']}, {'review_id': 'Restaurant_Review-g186338-d3979097-Reviews-BB_Bakery-London_England.html', 'x': 51.008526, 'y': -0.936142, 'tags': ['french']}, {'review_id': 'Restaurant_Review-g186338-d4046898-Reviews-Jamie_s_italian-London_England.html', 'x': 51.16089, 'y': -0.176477, 'tags': ['italian']}, {'review_id': 'Restaurant_Review-g186338-d2375022-Reviews-Garfunkel_s-London_England.html', 'x': 51.160877, 'y': -0.17403, 'tags': ['english']}]\n"
    }
   ],
   "source": [
    "results = []\n",
    "for r in reviews:\n",
    "    if r['x'] >= q[0] and r['x'] <= q[1] and r['y'] >= q[2] and r['y'] <= q[3]:\n",
    "        results.append(r)\n",
    "    print(len(results),results)"
   ]
  },
  {
   "cell_type": "code",
   "execution_count": 8,
   "metadata": {
    "tags": []
   },
   "outputs": [
    {
     "output_type": "execute_result",
     "data": {
      "text/plain": "3"
     },
     "metadata": {},
     "execution_count": 8
    }
   ],
   "source": [
    "x = [[1,34],[34,56],[56,89],[89,123],[123,2345],[2345,12344],[12344,1343421],[1343421, 252140335]]\n",
    "binary_search(x,90)"
   ]
  },
  {
   "cell_type": "code",
   "execution_count": 51,
   "metadata": {},
   "outputs": [
    {
     "output_type": "execute_result",
     "data": {
      "text/plain": "{'review_id': 'Restaurant_Review-g186338-d4800497-Reviews-Devon_Tors_Bar-London_England.html',\n 'x': 50.546856,\n 'y': -3.98667,\n 'tags': ['british']}"
     },
     "metadata": {},
     "execution_count": 51
    }
   ],
   "source": [
    "reviews[grid[2][0][0]]"
   ]
  }
 ],
 "metadata": {
  "language_info": {
   "codemirror_mode": {
    "name": "ipython",
    "version": 3
   },
   "file_extension": ".py",
   "mimetype": "text/x-python",
   "name": "python",
   "nbconvert_exporter": "python",
   "pygments_lexer": "ipython3",
   "version": "3.8.2-final"
  },
  "orig_nbformat": 2,
  "kernelspec": {
   "name": "python38264bit087c00796cd34d3ab2062ec5dd503d96",
   "display_name": "Python 3.8.2 64-bit"
  }
 },
 "nbformat": 4,
 "nbformat_minor": 2
}