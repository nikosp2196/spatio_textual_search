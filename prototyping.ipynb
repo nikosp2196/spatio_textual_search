{
 "cells": [
  {
   "cell_type": "code",
   "execution_count": 2,
   "metadata": {},
   "outputs": [],
   "source": [
    "import csv"
   ]
  },
  {
   "cell_type": "code",
   "execution_count": 13,
   "metadata": {},
   "outputs": [],
   "source": [
    "path = 'Data\\\\Restaurants_London_England.tsv'\n",
    "reviews = []\n",
    "with open(path) as tsv_file:\n",
    "    read_tsv = csv.reader(tsv_file, delimiter='\\t')\n",
    "    for row in read_tsv:\n",
    "        review_id = row[0]\n",
    "        \n",
    "        tmp_location = row[1].split(\": \")\n",
    "        x,y = tmp_location[1].split(\",\")\n",
    "        \n",
    "        tmp_tags = row[2].split(\": \")\n",
    "        tags_list = tmp_tags.split(\",\")\n",
    "        \n",
    "        tmp_review_dict = {\n",
    "            'revie_id': review_id,\n",
    "            'x': float(x),\n",
    "            'y': float(y),\n",
    "            'tags': tags_list\n",
    "        }\n",
    "        reviews.append(tmp_review_dict)"
   ]
  },
  {
   "cell_type": "code",
   "execution_count": 14,
   "metadata": {},
   "outputs": [],
   "source": [
    "location = row[1].split(\": \")\n",
    "x,y = location[1].split(\",\") "
   ]
  },
  {
   "cell_type": "code",
   "execution_count": 18,
   "metadata": {},
   "outputs": [],
   "source": [
    "x = float(x)"
   ]
  },
  {
   "cell_type": "code",
   "execution_count": 20,
   "metadata": {},
   "outputs": [
    {
     "output_type": "execute_result",
     "data": {
      "text/plain": "float"
     },
     "metadata": {},
     "execution_count": 20
    }
   ],
   "source": [
    "type(x)"
   ]
  }
 ],
 "metadata": {
  "language_info": {
   "codemirror_mode": {
    "name": "ipython",
    "version": 3
   },
   "file_extension": ".py",
   "mimetype": "text/x-python",
   "name": "python",
   "nbconvert_exporter": "python",
   "pygments_lexer": "ipython3",
   "version": "3.8.2-final"
  },
  "orig_nbformat": 2,
  "kernelspec": {
   "name": "python38264bit087c00796cd34d3ab2062ec5dd503d96",
   "display_name": "Python 3.8.2 64-bit"
  }
 },
 "nbformat": 4,
 "nbformat_minor": 2
}