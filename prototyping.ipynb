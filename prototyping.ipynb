{
 "cells": [
  {
   "cell_type": "code",
   "execution_count": 1,
   "metadata": {},
   "outputs": [],
   "source": [
    "from loader import load_reviews_to_list\n",
    "from text_search import generate_inverted_index, get_tag_frequency_list"
   ]
  },
  {
   "cell_type": "code",
   "execution_count": 2,
   "metadata": {},
   "outputs": [],
   "source": [
    "path = 'Data\\\\Restaurants_London_England.tsv'\n",
    "reviews = load_reviews_to_list(path)"
   ]
  },
  {
   "cell_type": "code",
   "execution_count": 3,
   "metadata": {},
   "outputs": [],
   "source": [
    "tags, bags = generate_inverted_index(reviews)"
   ]
  },
  {
   "cell_type": "code",
   "execution_count": 6,
   "metadata": {},
   "outputs": [
    {
     "output_type": "error",
     "ename": "NameError",
     "evalue": "name 's' is not defined",
     "traceback": [
      "\u001b[1;31m---------------------------------------------------------------------------\u001b[0m",
      "\u001b[1;31mNameError\u001b[0m                                 Traceback (most recent call last)",
      "\u001b[1;32m<ipython-input-6-ded5ba42480f>\u001b[0m in \u001b[0;36m<module>\u001b[1;34m\u001b[0m\n\u001b[1;32m----> 1\u001b[1;33m \u001b[0ms\u001b[0m\u001b[1;33m\u001b[0m\u001b[1;33m\u001b[0m\u001b[0m\n\u001b[0m",
      "\u001b[1;31mNameError\u001b[0m: name 's' is not defined"
     ]
    }
   ],
   "source": [
    "\n",
    "\n"
   ]
  },
  {
   "cell_type": "code",
   "execution_count": 46,
   "metadata": {},
   "outputs": [],
   "source": [
    "def merge_join(q, tag_list):\n",
    "    q_ptr = 0\n",
    "    t_ptr = 0\n",
    "    results = []\n",
    "    while q_ptr < len(q) and t_ptr < len(tag_list):\n",
    "        if q[q_ptr] == tag_list[t_ptr]:\n",
    "            results.append(t_ptr)\n",
    "            q_ptr += 1\n",
    "            t_ptr += 1\n",
    "        elif q[q_ptr] > tag_list[t_ptr]:\n",
    "            t_ptr += 1\n",
    "        else:\n",
    "            return -1\n",
    "    return results\n",
    "\n",
    "\n",
    "def kwSearchIF(text_list, tags_list, bags_list):\n",
    "\n",
    "    s_text_list = sorted(text_list)\n",
    "\n",
    "    if_indexes = merge_join(s_text_list, tags_list)\n",
    "    if len(if_indexes) == 0:\n",
    "        return \"OOPS\"\n",
    "    intersection = set(bags_list[if_indexes[0]])\n",
    "    if len(if_indexes) > 1:\n",
    "        for i in range(1, len(if_indexes)):\n",
    "            intersection = intersection & set(bags_list[if_indexes[i]])\n",
    "\n",
    "    return list(intersection)\n",
    "    "
   ]
  },
  {
   "cell_type": "code",
   "execution_count": 47,
   "metadata": {
    "tags": []
   },
   "outputs": [
    {
     "output_type": "execute_result",
     "data": {
      "text/plain": "'OOPS'"
     },
     "metadata": {},
     "execution_count": 47
    }
   ],
   "source": [
    "q = ['tavern']\n",
    "\n",
    "reviews_index = kwSearchIF(q, tags, bags)\n",
    "\n",
    "reviews_index"
   ]
  },
  {
   "cell_type": "code",
   "execution_count": 28,
   "metadata": {},
   "outputs": [
    {
     "output_type": "execute_result",
     "data": {
      "text/plain": "{'review_id': 'Restaurant_Review-g186338-d1015433-Reviews-Costas_Grill-London_England.html',\n 'x': 51.508144,\n 'y': -0.197733,\n 'tags': ['american', 'greek', 'bar', 'grill']}"
     },
     "metadata": {},
     "execution_count": 28
    }
   ],
   "source": [
    "for i in reviews_index:\n",
    "    print(reviews[i]['tags'])"
   ]
  },
  {
   "cell_type": "code",
   "execution_count": 25,
   "metadata": {
    "tags": []
   },
   "outputs": [
    {
     "output_type": "execute_result",
     "data": {
      "text/plain": "[10303]"
     },
     "metadata": {},
     "execution_count": 25
    }
   ],
   "source": [
    "[i for i in bags[14] if i in bags[73]]"
   ]
  }
 ],
 "metadata": {
  "language_info": {
   "codemirror_mode": {
    "name": "ipython",
    "version": 3
   },
   "file_extension": ".py",
   "mimetype": "text/x-python",
   "name": "python",
   "nbconvert_exporter": "python",
   "pygments_lexer": "ipython3",
   "version": "3.8.2-final"
  },
  "orig_nbformat": 2,
  "kernelspec": {
   "name": "python38264bit087c00796cd34d3ab2062ec5dd503d96",
   "display_name": "Python 3.8.2 64-bit"
  }
 },
 "nbformat": 4,
 "nbformat_minor": 2
}